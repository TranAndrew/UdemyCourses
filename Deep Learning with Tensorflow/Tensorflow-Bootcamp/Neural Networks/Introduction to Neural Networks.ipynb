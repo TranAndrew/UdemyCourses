{
 "cells": [
  {
   "cell_type": "markdown",
   "metadata": {},
   "source": [
    "$\\textbf{Perceptron Model}$ <br><br>\n",
    "$\\Sigma_{i=0}^{n} w_ix_i + b$ <br>\n",
    "The sum of the weights, times the inputs plus the bias term <br> <br>\n",
    "$\\textbf{Multi-Layer Perceptron Model}$<br><br>\n",
    "Order of layers: <br> \n",
    "Input Layer - Hidden Layers - Output Layer <br>\n",
    "Hidden layers with 3+ layers is a \"deep network\" <br> \n",
    "\n"
   ]
  },
  {
   "cell_type": "markdown",
   "metadata": {},
   "source": [
    "$\\textbf{Activation Function}$ <br> <br>\n",
    "A function - e.g. Output equal to zero or one <br>\n",
    "Prefer dynamic functions, like the sigmoid function: $f(x) = \\frac{1}{1+e^{-x}}$ <br> \n",
    "Here is a list of common activation function: <br>\n",
    "<li> $cosh~x = \\frac{e^x + e^-x}{2}$ \n",
    "<li>$sinh~x = \\frac{e^x - e^-x}{2}$\n",
    "<li>$tanh~x = \\frac{sinh x}{cosh x}$    \n",
    "<br>\n",
    "Rectified Linear Unit (ReLU) = max(0,x) <br>"
   ]
  },
  {
   "cell_type": "markdown",
   "metadata": {},
   "source": [
    "$\\textbf{Cost Functions}$ <br><br>\n",
    "Evaluate the performance of a neuron - distance from expected value \n",
    "Variable representations:<br>\n",
    "<li> y - true value\n",
    "<li> a - neuron prediction\n",
    "<li> w*x + b = z \n",
    "<li> z goes into activation function $\\sigma(z) = a$ <br> <br>\n",
    "Quadratic Cost Function - Sum of squared error divided by n (WILL NOT BE USED) <br>\n",
    "Cross Entropy - $C = \\frac{-1}{n}\\Sigma(y*ln(a) + (1-y)*ln(1-a))$ (increase learning speed) <br> \n",
    "&nbsp;&nbsp; Faster learning occurred because of the increased distances between y and a <br>"
   ]
  },
  {
   "cell_type": "markdown",
   "metadata": {},
   "source": [
    "$\\textbf{Gradient Decent Backpropagation}$"
   ]
  },
  {
   "cell_type": "code",
   "execution_count": null,
   "metadata": {
    "collapsed": true
   },
   "outputs": [],
   "source": []
  }
 ],
 "metadata": {
  "kernelspec": {
   "display_name": "Python 3",
   "language": "python",
   "name": "python3"
  },
  "language_info": {
   "codemirror_mode": {
    "name": "ipython",
    "version": 3
   },
   "file_extension": ".py",
   "mimetype": "text/x-python",
   "name": "python",
   "nbconvert_exporter": "python",
   "pygments_lexer": "ipython3",
   "version": "3.5.3"
  }
 },
 "nbformat": 4,
 "nbformat_minor": 1
}
